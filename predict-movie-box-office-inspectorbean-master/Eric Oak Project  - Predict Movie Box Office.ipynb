{
 "cells": [
  {
   "cell_type": "markdown",
   "metadata": {},
   "source": [
    "# Project: Predict Movie Box Office\n",
    "\n",
    "\n",
    "Data for this case:   \n",
    "        \n",
    "        moviebuzz.csv \n",
    "\n"
   ]
  },
  {
   "cell_type": "code",
   "execution_count": 204,
   "metadata": {
    "collapsed": true
   },
   "outputs": [],
   "source": [
    "# Data Imports\n",
    "import numpy as np\n",
    "import pandas as pd\n",
    "\n",
    "# Plot imports\n",
    "import matplotlib.pyplot as plt\n",
    "import seaborn as sns\n",
    "sns.set_style('whitegrid')\n",
    "%matplotlib inline\n",
    "\n",
    "# Machine Learning Imports\n",
    "from sklearn.linear_model import LinearRegression\n",
    "from sklearn.model_selection import train_test_split\n",
    "from sklearn.preprocessing import normalize\n",
    "\n",
    "# For evaluating our ML results\n",
    "from sklearn import metrics"
   ]
  },
  {
   "cell_type": "markdown",
   "metadata": {},
   "source": [
    "## Exploratory Data Analysis (EDA)\n",
    "    \n",
    "Let us go ahead and take a look at the dataset"
   ]
  },
  {
   "cell_type": "code",
   "execution_count": 205,
   "metadata": {
    "collapsed": true
   },
   "outputs": [],
   "source": [
    "df = pd.read_csv('moviebuzz.csv')"
   ]
  },
  {
   "cell_type": "code",
   "execution_count": 206,
   "metadata": {},
   "outputs": [
    {
     "data": {
      "text/html": [
       "<div>\n",
       "<style>\n",
       "    .dataframe thead tr:only-child th {\n",
       "        text-align: right;\n",
       "    }\n",
       "\n",
       "    .dataframe thead th {\n",
       "        text-align: left;\n",
       "    }\n",
       "\n",
       "    .dataframe tbody tr th {\n",
       "        vertical-align: top;\n",
       "    }\n",
       "</style>\n",
       "<table border=\"1\" class=\"dataframe\">\n",
       "  <thead>\n",
       "    <tr style=\"text-align: right;\">\n",
       "      <th></th>\n",
       "      <th>Box</th>\n",
       "      <th>Rating</th>\n",
       "      <th>Budget</th>\n",
       "      <th>StarPower</th>\n",
       "      <th>Sequel</th>\n",
       "      <th>Action</th>\n",
       "      <th>Comedy</th>\n",
       "      <th>Animated</th>\n",
       "      <th>Horror</th>\n",
       "      <th>Fandango</th>\n",
       "      <th>HSX</th>\n",
       "      <th>Movie</th>\n",
       "    </tr>\n",
       "  </thead>\n",
       "  <tbody>\n",
       "    <tr>\n",
       "      <th>0</th>\n",
       "      <td>63106589.0</td>\n",
       "      <td>2</td>\n",
       "      <td>150.0</td>\n",
       "      <td>42.51</td>\n",
       "      <td>1</td>\n",
       "      <td>0</td>\n",
       "      <td>0</td>\n",
       "      <td>1</td>\n",
       "      <td>0</td>\n",
       "      <td>0.79</td>\n",
       "      <td>143.03</td>\n",
       "      <td>Madagascar 2</td>\n",
       "    </tr>\n",
       "    <tr>\n",
       "      <th>1</th>\n",
       "      <td>69637740.0</td>\n",
       "      <td>3</td>\n",
       "      <td>37.0</td>\n",
       "      <td>16.75</td>\n",
       "      <td>0</td>\n",
       "      <td>0</td>\n",
       "      <td>0</td>\n",
       "      <td>0</td>\n",
       "      <td>0</td>\n",
       "      <td>0.77</td>\n",
       "      <td>128.01</td>\n",
       "      <td>Twilight</td>\n",
       "    </tr>\n",
       "    <tr>\n",
       "      <th>2</th>\n",
       "      <td>67528882.0</td>\n",
       "      <td>3</td>\n",
       "      <td>200.0</td>\n",
       "      <td>28.08</td>\n",
       "      <td>1</td>\n",
       "      <td>1</td>\n",
       "      <td>0</td>\n",
       "      <td>0</td>\n",
       "      <td>0</td>\n",
       "      <td>0.76</td>\n",
       "      <td>163.91</td>\n",
       "      <td>Quantum of Solace</td>\n",
       "    </tr>\n",
       "    <tr>\n",
       "      <th>3</th>\n",
       "      <td>70950500.0</td>\n",
       "      <td>3</td>\n",
       "      <td>85.0</td>\n",
       "      <td>16.62</td>\n",
       "      <td>1</td>\n",
       "      <td>1</td>\n",
       "      <td>0</td>\n",
       "      <td>0</td>\n",
       "      <td>0</td>\n",
       "      <td>0.71</td>\n",
       "      <td>105.91</td>\n",
       "      <td>Fast and Furious</td>\n",
       "    </tr>\n",
       "    <tr>\n",
       "      <th>4</th>\n",
       "      <td>14851136.0</td>\n",
       "      <td>3</td>\n",
       "      <td>55.0</td>\n",
       "      <td>23.61</td>\n",
       "      <td>0</td>\n",
       "      <td>0</td>\n",
       "      <td>0</td>\n",
       "      <td>0</td>\n",
       "      <td>0</td>\n",
       "      <td>0.70</td>\n",
       "      <td>84.16</td>\n",
       "      <td>Seven Pounds</td>\n",
       "    </tr>\n",
       "  </tbody>\n",
       "</table>\n",
       "</div>"
      ],
      "text/plain": [
       "          Box  Rating  Budget  StarPower  Sequel  Action  Comedy  Animated  \\\n",
       "0  63106589.0       2   150.0      42.51       1       0       0         1   \n",
       "1  69637740.0       3    37.0      16.75       0       0       0         0   \n",
       "2  67528882.0       3   200.0      28.08       1       1       0         0   \n",
       "3  70950500.0       3    85.0      16.62       1       1       0         0   \n",
       "4  14851136.0       3    55.0      23.61       0       0       0         0   \n",
       "\n",
       "   Horror  Fandango     HSX              Movie  \n",
       "0       0      0.79  143.03       Madagascar 2  \n",
       "1       0      0.77  128.01           Twilight  \n",
       "2       0      0.76  163.91  Quantum of Solace  \n",
       "3       0      0.71  105.91   Fast and Furious  \n",
       "4       0      0.70   84.16       Seven Pounds  "
      ]
     },
     "execution_count": 206,
     "metadata": {},
     "output_type": "execute_result"
    }
   ],
   "source": [
    "df.head()"
   ]
  },
  {
   "cell_type": "markdown",
   "metadata": {},
   "source": [
    "### Exercise 1. Visualize the data\n",
    "\n",
    "Reminder: our target is to predict box office."
   ]
  },
  {
   "cell_type": "code",
   "execution_count": 207,
   "metadata": {},
   "outputs": [],
   "source": [
    "# Your code\n",
    "#sns.pairplot(df, hue='Box')\n"
   ]
  },
  {
   "cell_type": "code",
   "execution_count": 208,
   "metadata": {},
   "outputs": [
    {
     "data": {
      "text/plain": [
       "(array([ 2.,  6.,  8.,  3.,  5.,  3.,  4.,  4.,  6.,  1.,  4.,  3.,  2.,\n",
       "         2.,  0.,  1.,  0.,  2.,  0.,  0.,  0.,  0.,  0.,  1.,  0.,  1.,\n",
       "         1.,  0.,  1.,  2.]),\n",
       " array([   511920.        ,   2859872.66666667,   5207825.33333333,\n",
       "          7555778.        ,   9903730.66666667,  12251683.33333333,\n",
       "         14599636.        ,  16947588.66666666,  19295541.33333333,\n",
       "         21643494.        ,  23991446.66666666,  26339399.33333333,\n",
       "         28687352.        ,  31035304.66666666,  33383257.33333333,\n",
       "         35731210.        ,  38079162.66666666,  40427115.33333333,\n",
       "         42775068.        ,  45123020.66666666,  47470973.33333333,\n",
       "         49818926.        ,  52166878.66666666,  54514831.33333333,\n",
       "         56862784.        ,  59210736.66666666,  61558689.33333333,\n",
       "         63906641.99999999,  66254594.66666666,  68602547.33333333,\n",
       "         70950500.        ]),\n",
       " <a list of 30 Patch objects>)"
      ]
     },
     "execution_count": 208,
     "metadata": {},
     "output_type": "execute_result"
    },
    {
     "data": {
      "image/png": "[encoded data removed]",
      "text/plain": [
       "<matplotlib.figure.Figure at 0x21ce1bae320>"
      ]
     },
     "metadata": {},
     "output_type": "display_data"
    }
   ],
   "source": [
    "box_df = df['Box']\n",
    "box_df.head()\n",
    "plt.hist(box_df, bins=30)"
   ]
  },
  {
   "cell_type": "markdown",
   "metadata": {},
   "source": [
    "  \n",
    " \n",
    "# Prepare dataset"
   ]
  },
  {
   "cell_type": "code",
   "execution_count": 209,
   "metadata": {},
   "outputs": [
    {
     "data": {
      "text/plain": [
       "(62, 10)"
      ]
     },
     "execution_count": 209,
     "metadata": {},
     "output_type": "execute_result"
    }
   ],
   "source": [
    "X = df.drop(['Box', 'Movie'], axis = 1)\n",
    "\n",
    "X.shape"
   ]
  },
  {
   "cell_type": "code",
   "execution_count": 210,
   "metadata": {},
   "outputs": [
    {
     "data": {
      "text/plain": [
       "(62,)"
      ]
     },
     "execution_count": 210,
     "metadata": {},
     "output_type": "execute_result"
    }
   ],
   "source": [
    "Y = df['Box']\n",
    "\n",
    "Y.head()\n",
    "Y.shape"
   ]
  },
  {
   "cell_type": "code",
   "execution_count": null,
   "metadata": {},
   "outputs": [],
   "source": []
  },
  {
   "cell_type": "markdown",
   "metadata": {},
   "source": [
    "# Using scikit learn to implement a multivariate linear regression\n",
    "\n",
    "Hint: https://github.com/MIS6300-2017Fall/python-machine-learning/blob/master/1.1%20-%20Linear%20Regression%20Example%20(short%20version).ipynb"
   ]
  },
  {
   "cell_type": "markdown",
   "metadata": {},
   "source": [
    "### Exercise 2. Implement a multivariate linear regression\n",
    "\n",
    "You need to:\n",
    "\n",
    "1. Split the data into training/testing sets\n",
    "2. Create linear regression object\n",
    "3. Train the model using the training sets\n",
    "4. Make predictions using the testing set\n",
    "5. Report coefficients, mean squared error(MSE) and variance score(R-square). "
   ]
  },
  {
   "cell_type": "code",
   "execution_count": 221,
   "metadata": {
    "collapsed": true
   },
   "outputs": [],
   "source": [
    "# Your code\n",
    "#Training and Test Sets\n",
    "x_train, x_test, y_train, y_test = train_test_split(X, Y, test_size=0.2)"
   ]
  },
  {
   "cell_type": "code",
   "execution_count": 222,
   "metadata": {},
   "outputs": [
    {
     "data": {
      "text/plain": [
       "(49, 1)"
      ]
     },
     "execution_count": 222,
     "metadata": {},
     "output_type": "execute_result"
    }
   ],
   "source": [
    "#regression object\n",
    "mvlreg = LinearRegression(normalize=True)\n",
    "\n",
    "yflat = np.vstack(y_train)\n",
    "yflat.shape"
   ]
  },
  {
   "cell_type": "code",
   "execution_count": 223,
   "metadata": {},
   "outputs": [
    {
     "data": {
      "text/plain": [
       "LinearRegression(copy_X=True, fit_intercept=True, n_jobs=1, normalize=True)"
      ]
     },
     "execution_count": 223,
     "metadata": {},
     "output_type": "execute_result"
    }
   ],
   "source": [
    "#train the model\n",
    "mvlreg.fit(x_train, yflat)\n",
    "#print('Coefficients: ', len(mvlreg.coef_))"
   ]
  },
  {
   "cell_type": "code",
   "execution_count": 224,
   "metadata": {
    "scrolled": true
   },
   "outputs": [],
   "source": [
    "#predictions\n",
    "test_predictions = mvlreg.predict(x_test)"
   ]
  },
  {
   "cell_type": "code",
   "execution_count": 228,
   "metadata": {},
   "outputs": [
    {
     "name": "stdout",
     "output_type": "stream",
     "text": [
      "         X's          Coef\n",
      "0     Rating -2.653598e+05\n",
      "1     Budget -9.852329e+03\n",
      "2  StarPower -9.692427e+04\n",
      "3     Sequel  9.092263e+06\n",
      "4     Action -8.383062e+06\n",
      "5     Comedy -4.009007e+06\n",
      "6   Animated -7.947446e+06\n",
      "7     Horror -2.975622e+05\n",
      "8   Fandango  1.729939e+07\n",
      "9        HSX  3.339116e+05\n",
      "Variance: 0.80\n",
      "Mean Squared Error: 53355003465592.05\n"
     ]
    }
   ],
   "source": [
    "#Coeffients\n",
    "coefs = pd.DataFrame(x_train.columns)\n",
    "coefs.columns = [\"X's\"]\n",
    "coefs['Coef'] = pd.Series(mvlreg.coef_[0])\n",
    "print(coefs)\n",
    "\n",
    "print('Variance: %.2f' % metrics.r2_score(y_test, test_predictions))\n",
    "print('Mean Squared Error: %.2f' % metrics.mean_squared_error(y_test, test_predictions))\n",
    "\n",
    "#print(metrics.classification_report(y_test, test_predictions))"
   ]
  },
  {
   "cell_type": "markdown",
   "metadata": {},
   "source": [
    "#### Not sure how to get the mean squared down... I tried flattening the y with vstack and ravel but neither work."
   ]
  }
 ],
 "metadata": {
  "kernelspec": {
   "display_name": "Python 3",
   "language": "python",
   "name": "python3"
  },
  "language_info": {
   "codemirror_mode": {
    "name": "ipython",
    "version": 3
   },
   "file_extension": ".py",
   "mimetype": "text/x-python",
   "name": "python",
   "nbconvert_exporter": "python",
   "pygments_lexer": "ipython3",
   "version": "3.6.1"
  }
 },
 "nbformat": 4,
 "nbformat_minor": 2
}
